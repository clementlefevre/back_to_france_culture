{
  "nbformat": 4,
  "nbformat_minor": 0,
  "metadata": {
    "colab": {
      "name": "Google_Longaudio_API_speaker_diarization.ipynb",
      "provenance": [],
      "collapsed_sections": []
    },
    "language_info": {
      "codemirror_mode": {
        "name": "ipython",
        "version": 3
      },
      "file_extension": ".py",
      "mimetype": "text/x-python",
      "name": "python",
      "nbconvert_exporter": "python",
      "pygments_lexer": "ipython3",
      "version": "3.7.1"
    },
    "kernelspec": {
      "display_name": "Python 3",
      "language": "python",
      "name": "python3"
    }
  },
  "cells": [
    {
      "cell_type": "code",
      "metadata": {
        "id": "cJlRA2-ke6z8",
        "colab_type": "code",
        "colab": {}
      },
      "source": [
        "filepath = \"\"\n",
        "output_filepath = \"\""
      ],
      "execution_count": 0,
      "outputs": []
    },
    {
      "cell_type": "code",
      "metadata": {
        "id": "OQOtWf7ogq1t",
        "colab_type": "code",
        "colab": {}
      },
      "source": [
        "#!pip install pydub\n",
        "#!pip install google-cloud-speech\n",
        "from google.cloud import speech_v1p1beta1 as speech"
      ],
      "execution_count": 0,
      "outputs": []
    },
    {
      "cell_type": "code",
      "metadata": {
        "id": "gj0GLX4Ie60B",
        "colab_type": "code",
        "colab": {}
      },
      "source": [
        "from pydub import AudioSegment\n",
        "import io\n",
        "import os\n",
        "#from google.cloud import speech\n",
        "from google.cloud import speech_v1p1beta1 as speech\n",
        "\n",
        "#from google.cloud.speech import enums\n",
        "#from google.cloud.speech import types\n",
        "\n",
        "from google.cloud.speech_v1p1beta1 import enums\n",
        "from google.cloud.speech_v1p1beta1 import types\n",
        "\n",
        "import wave\n",
        "from google.cloud import storage\n",
        "import requests\n",
        "import shutil\n",
        "import pandas as pd"
      ],
      "execution_count": 0,
      "outputs": []
    },
    {
      "cell_type": "code",
      "metadata": {
        "id": "OiW9CywFiOPS",
        "colab_type": "code",
        "colab": {}
      },
      "source": [
        "import os\n",
        "os.environ['GOOGLE_APPLICATION_CREDENTIALS'] = 'google_text_to_speech_key.json'"
      ],
      "execution_count": 0,
      "outputs": []
    },
    {
      "cell_type": "code",
      "metadata": {
        "id": "Lzd2-iF_iBwQ",
        "colab_type": "code",
        "colab": {}
      },
      "source": [
        "df = pd.read_csv('all_podcasts.csv')\n",
        "df['mp3_filename'] =df['data-asset-source'].str.split('\\/').str[-1]\n",
        "df = df[~df.mp3_filename.isnull()]\n",
        "#df['data-asset-source'].tolist()"
      ],
      "execution_count": 0,
      "outputs": []
    },
    {
      "cell_type": "code",
      "metadata": {
        "id": "bY672s-0lREl",
        "colab_type": "code",
        "outputId": "42b0c73b-3acb-4c80-8d62-6c96ff3d80ec",
        "colab": {
          "base_uri": "https://localhost:8080/",
          "height": 584
        }
      },
      "source": [
        "df[df['data-asset-title'].str.contains('Haneke')]"
      ],
      "execution_count": 0,
      "outputs": [
        {
          "output_type": "execute_result",
          "data": {
            "text/html": [
              "<div>\n",
              "<style scoped>\n",
              "    .dataframe tbody tr th:only-of-type {\n",
              "        vertical-align: middle;\n",
              "    }\n",
              "\n",
              "    .dataframe tbody tr th {\n",
              "        vertical-align: top;\n",
              "    }\n",
              "\n",
              "    .dataframe thead th {\n",
              "        text-align: right;\n",
              "    }\n",
              "</style>\n",
              "<table border=\"1\" class=\"dataframe\">\n",
              "  <thead>\n",
              "    <tr style=\"text-align: right;\">\n",
              "      <th></th>\n",
              "      <th>Unnamed: 0</th>\n",
              "      <th>index</th>\n",
              "      <th>Unnamed: 0.1</th>\n",
              "      <th>aria-label</th>\n",
              "      <th>class</th>\n",
              "      <th>data-asset-created-date</th>\n",
              "      <th>data-asset-source</th>\n",
              "      <th>data-asset-surtitle</th>\n",
              "      <th>data-asset-title</th>\n",
              "      <th>data-btn-type</th>\n",
              "      <th>data-business-reference</th>\n",
              "      <th>data-clip-type</th>\n",
              "      <th>data-concept-id</th>\n",
              "      <th>data-diffusion-id</th>\n",
              "      <th>data-duration</th>\n",
              "      <th>data-expression-id</th>\n",
              "      <th>data-media-id</th>\n",
              "      <th>data-network-change</th>\n",
              "      <th>data-short-id</th>\n",
              "      <th>data-surtitle-link</th>\n",
              "      <th>data-timeshift</th>\n",
              "      <th>data-title-link</th>\n",
              "      <th>data-universe-title</th>\n",
              "      <th>disabled</th>\n",
              "      <th>title</th>\n",
              "      <th>mp3_filename</th>\n",
              "    </tr>\n",
              "  </thead>\n",
              "  <tbody>\n",
              "    <tr>\n",
              "      <th>1480</th>\n",
              "      <td>1480</td>\n",
              "      <td>1480</td>\n",
              "      <td>10</td>\n",
              "      <td>Lecture du replay</td>\n",
              "      <td>replay-button paused aod</td>\n",
              "      <td>1.358413e+09</td>\n",
              "      <td>https://s3-eu-west-1.amazonaws.com/cruiser-pro...</td>\n",
              "      <td>Les Chemins de la philosophie</td>\n",
              "      <td>Philosopher avec Michael Haneke (4/4) : La pia...</td>\n",
              "      <td>aod</td>\n",
              "      <td>12410</td>\n",
              "      <td>reecoute</td>\n",
              "      <td>2fae969a-3f60-11e5-8314-005056a87c89</td>\n",
              "      <td>NaN</td>\n",
              "      <td>3567.0</td>\n",
              "      <td>08f3b1af-5b36-11e2-a7b7-782bcb76618d</td>\n",
              "      <td>08f3b1af-5b36-11e2-a7b7-782bcb76618d</td>\n",
              "      <td>NaN</td>\n",
              "      <td>0a152555</td>\n",
              "      <td>/emissions/les-chemins-de-la-philosophie</td>\n",
              "      <td>NaN</td>\n",
              "      <td>/emissions/les-nouveaux-chemins-de-la-connaiss...</td>\n",
              "      <td>savoirs</td>\n",
              "      <td>NaN</td>\n",
              "      <td>Réécouter Philosopher avec Michael Haneke (4/4...</td>\n",
              "      <td>RF_6A1DC2F7-A165-421B-B7FF-63067F201514_GENE.MP3</td>\n",
              "    </tr>\n",
              "    <tr>\n",
              "      <th>1481</th>\n",
              "      <td>1481</td>\n",
              "      <td>1481</td>\n",
              "      <td>11</td>\n",
              "      <td>Lecture du replay</td>\n",
              "      <td>replay-button paused aod</td>\n",
              "      <td>1.358327e+09</td>\n",
              "      <td>https://s3-eu-west-1.amazonaws.com/cruiser-pro...</td>\n",
              "      <td>Les Chemins de la philosophie</td>\n",
              "      <td>Philosopher avec Michael Haneke (3/4) : Funny ...</td>\n",
              "      <td>aod</td>\n",
              "      <td>12410</td>\n",
              "      <td>reecoute</td>\n",
              "      <td>2fae969a-3f60-11e5-8314-005056a87c89</td>\n",
              "      <td>NaN</td>\n",
              "      <td>3495.0</td>\n",
              "      <td>327ba26c-5b35-11e2-a7b7-782bcb76618d</td>\n",
              "      <td>327ba26c-5b35-11e2-a7b7-782bcb76618d</td>\n",
              "      <td>NaN</td>\n",
              "      <td>fbe4fe4c</td>\n",
              "      <td>/emissions/les-chemins-de-la-philosophie</td>\n",
              "      <td>NaN</td>\n",
              "      <td>/emissions/les-nouveaux-chemins-de-la-connaiss...</td>\n",
              "      <td>savoirs</td>\n",
              "      <td>NaN</td>\n",
              "      <td>Réécouter Philosopher avec Michael Haneke (3/4...</td>\n",
              "      <td>NET_FC_30b633f9-dc13-4b97-bcbd-ef3defc01bad.mp3</td>\n",
              "    </tr>\n",
              "    <tr>\n",
              "      <th>1482</th>\n",
              "      <td>1482</td>\n",
              "      <td>1482</td>\n",
              "      <td>12</td>\n",
              "      <td>Lecture du replay</td>\n",
              "      <td>replay-button paused aod</td>\n",
              "      <td>1.358240e+09</td>\n",
              "      <td>https://s3-eu-west-1.amazonaws.com/cruiser-pro...</td>\n",
              "      <td>Les Chemins de la philosophie</td>\n",
              "      <td>Philosopher avec Michael Haneke (2/4) : Le rub...</td>\n",
              "      <td>aod</td>\n",
              "      <td>12410</td>\n",
              "      <td>reecoute</td>\n",
              "      <td>2fae969a-3f60-11e5-8314-005056a87c89</td>\n",
              "      <td>NaN</td>\n",
              "      <td>3570.0</td>\n",
              "      <td>d62a0b09-5b34-11e2-a7b7-782bcb76618d</td>\n",
              "      <td>d62a0b09-5b34-11e2-a7b7-782bcb76618d</td>\n",
              "      <td>NaN</td>\n",
              "      <td>2020d74f</td>\n",
              "      <td>/emissions/les-chemins-de-la-philosophie</td>\n",
              "      <td>NaN</td>\n",
              "      <td>/emissions/les-nouveaux-chemins-de-la-connaiss...</td>\n",
              "      <td>savoirs</td>\n",
              "      <td>NaN</td>\n",
              "      <td>Réécouter Philosopher avec Michael Haneke (2/4...</td>\n",
              "      <td>PHILOSOPHER_AVEC_MICHAEL_HANEKE_%282_4%29___LE...</td>\n",
              "    </tr>\n",
              "    <tr>\n",
              "      <th>1483</th>\n",
              "      <td>1483</td>\n",
              "      <td>1483</td>\n",
              "      <td>13</td>\n",
              "      <td>Lecture du replay</td>\n",
              "      <td>replay-button paused aod</td>\n",
              "      <td>1.358154e+09</td>\n",
              "      <td>https://s3-eu-west-1.amazonaws.com/cruiser-pro...</td>\n",
              "      <td>Les Chemins de la philosophie</td>\n",
              "      <td>Philosopher avec Michael Haneke (1/4) : Le cin...</td>\n",
              "      <td>aod</td>\n",
              "      <td>12410</td>\n",
              "      <td>reecoute</td>\n",
              "      <td>2fae969a-3f60-11e5-8314-005056a87c89</td>\n",
              "      <td>NaN</td>\n",
              "      <td>3483.0</td>\n",
              "      <td>7bb10c3c-5b34-11e2-a7b7-782bcb76618d</td>\n",
              "      <td>7bb10c3c-5b34-11e2-a7b7-782bcb76618d</td>\n",
              "      <td>NaN</td>\n",
              "      <td>ce12d2aa</td>\n",
              "      <td>/emissions/les-chemins-de-la-philosophie</td>\n",
              "      <td>NaN</td>\n",
              "      <td>/emissions/les-nouveaux-chemins-de-la-connaiss...</td>\n",
              "      <td>savoirs</td>\n",
              "      <td>NaN</td>\n",
              "      <td>Réécouter Philosopher avec Michael Haneke (1/4...</td>\n",
              "      <td>NET_FC_f21b5923-d17a-4444-8ee3-324de55377ed.mp3</td>\n",
              "    </tr>\n",
              "  </tbody>\n",
              "</table>\n",
              "</div>"
            ],
            "text/plain": [
              "      Unnamed: 0  ...                                       mp3_filename\n",
              "1480        1480  ...   RF_6A1DC2F7-A165-421B-B7FF-63067F201514_GENE.MP3\n",
              "1481        1481  ...    NET_FC_30b633f9-dc13-4b97-bcbd-ef3defc01bad.mp3\n",
              "1482        1482  ...  PHILOSOPHER_AVEC_MICHAEL_HANEKE_%282_4%29___LE...\n",
              "1483        1483  ...    NET_FC_f21b5923-d17a-4444-8ee3-324de55377ed.mp3\n",
              "\n",
              "[4 rows x 26 columns]"
            ]
          },
          "metadata": {
            "tags": []
          },
          "execution_count": 6
        }
      ]
    },
    {
      "cell_type": "code",
      "metadata": {
        "id": "NGC7T3C1hWfJ",
        "colab_type": "code",
        "colab": {}
      },
      "source": [
        "def dl_mp3(file_url,file_name):\n",
        "  r = requests.get(file_url, stream=True)\n",
        "  if r.status_code == 200:\n",
        "      with open(file_name, 'wb') as f:\n",
        "          r.raw.decode_content = True\n",
        "          shutil.copyfileobj(r.raw, f)        "
      ],
      "execution_count": 0,
      "outputs": []
    },
    {
      "cell_type": "code",
      "metadata": {
        "id": "GmRaMe7ce60E",
        "colab_type": "code",
        "colab": {}
      },
      "source": [
        "def mp3_to_wav(mp3_file_name):\n",
        "    print('converting')\n",
        "    wav_file_name = mp3_file_name.split('.mp3')[0] + '.wav'\n",
        "    exists = os.path.isfile(output_filepath + mp3_file_name)\n",
        "    if not exists:\n",
        "      \n",
        "      sound = AudioSegment.from_mp3(mp3_file_name)\n",
        "      print('sound ok')\n",
        "    \n",
        "      print(wav_file_name)\n",
        "      sound.export(wav_file_name, format=\"wav\")\n",
        "    return wav_file_name"
      ],
      "execution_count": 0,
      "outputs": []
    },
    {
      "cell_type": "code",
      "metadata": {
        "id": "gxr6_XjNe60H",
        "colab_type": "code",
        "colab": {}
      },
      "source": [
        "def frame_rate_channel(audio_file_name):\n",
        "    with wave.open(audio_file_name, \"rb\") as wave_file:\n",
        "        frame_rate = wave_file.getframerate()\n",
        "        channels = wave_file.getnchannels()\n",
        "        return frame_rate,channels"
      ],
      "execution_count": 0,
      "outputs": []
    },
    {
      "cell_type": "code",
      "metadata": {
        "id": "xntPqAwhe60K",
        "colab_type": "code",
        "colab": {}
      },
      "source": [
        "def stereo_to_mono(audio_file_name):\n",
        "    sound = AudioSegment.from_wav(audio_file_name)\n",
        "    sound = sound.set_channels(1)\n",
        "    sound.export(audio_file_name, format=\"wav\")"
      ],
      "execution_count": 0,
      "outputs": []
    },
    {
      "cell_type": "code",
      "metadata": {
        "id": "kDzCUxW7e60O",
        "colab_type": "code",
        "colab": {}
      },
      "source": [
        "def upload_blob(bucket_name, source_file_name, destination_blob_name):\n",
        "    \"\"\"Uploads a file to the bucket.\"\"\"\n",
        "    storage_client = storage.Client()\n",
        "    bucket = storage_client.get_bucket(bucket_name)\n",
        "    blob = bucket.blob(destination_blob_name)\n",
        "\n",
        "    blob.upload_from_filename(source_file_name)"
      ],
      "execution_count": 0,
      "outputs": []
    },
    {
      "cell_type": "code",
      "metadata": {
        "id": "w1YLp4FBe60R",
        "colab_type": "code",
        "colab": {}
      },
      "source": [
        "def delete_blob(bucket_name, blob_name):\n",
        "    \"\"\"Deletes a blob from the bucket.\"\"\"\n",
        "    storage_client = storage.Client()\n",
        "    bucket = storage_client.get_bucket(bucket_name)\n",
        "    blob = bucket.blob(blob_name)\n",
        "\n",
        "    blob.delete()"
      ],
      "execution_count": 0,
      "outputs": []
    },
    {
      "cell_type": "code",
      "metadata": {
        "id": "3ioHo-cxe60U",
        "colab_type": "code",
        "colab": {}
      },
      "source": [
        "def google_transcribe(audio_file_name):\n",
        "    \n",
        "    file_name = filepath + audio_file_name\n",
        "    print(file_name)\n",
        "    wav_file_name = mp3_to_wav(file_name)\n",
        "    print(wav_file_name)\n",
        "\n",
        "    # The name of the audio file to transcribe\n",
        "    \n",
        "    frame_rate, channels = frame_rate_channel(wav_file_name)\n",
        "    \n",
        "    if channels > 1:\n",
        "        stereo_to_mono(wav_file_name)\n",
        "    \n",
        "    bucket_name = 'callsaudiofiles_clem'\n",
        "    source_file_name = filepath + wav_file_name\n",
        "    destination_blob_name = wav_file_name\n",
        "    \n",
        "    upload_blob(bucket_name, source_file_name, destination_blob_name)\n",
        "    \n",
        "    gcs_uri = 'gs://callsaudiofiles_clem/' + wav_file_name\n",
        "    transcript = ''\n",
        "    \n",
        "    client = speech.SpeechClient()\n",
        "    audio = types.RecognitionAudio(uri=gcs_uri)\n",
        "\n",
        "    config = types.RecognitionConfig(\n",
        "    encoding=enums.RecognitionConfig.AudioEncoding.LINEAR16,\n",
        "    sample_rate_hertz=frame_rate,\n",
        "    language_code='fr-FR',\n",
        "    enable_speaker_diarization=True,\n",
        "    diarization_speaker_count=2)\n",
        "\n",
        "    # Detects speech in the audio file\n",
        "    operation = client.long_running_recognize(config, audio)\n",
        "    response = operation.result(timeout=10000)\n",
        "    result = response.results[-1]\n",
        "    words_info = result.alternatives[0].words\n",
        "    \n",
        "    tag=1\n",
        "    speaker=\"\"\n",
        "\n",
        "    for word_info in words_info:\n",
        "        if word_info.speaker_tag==tag:\n",
        "            speaker=speaker+\" \"+word_info.word\n",
        "        else:\n",
        "            transcript += \"speaker {}: {}\".format(tag,speaker) + '\\n'\n",
        "            tag=word_info.speaker_tag\n",
        "            speaker=\"\"+word_info.word\n",
        "\n",
        "    transcript += \"speaker {}: {}\".format(tag,speaker)\n",
        "    \n",
        "    #delete_blob(bucket_name, destination_blob_name)\n",
        "    return transcript"
      ],
      "execution_count": 0,
      "outputs": []
    },
    {
      "cell_type": "code",
      "metadata": {
        "id": "1MAih_8Ee60Y",
        "colab_type": "code",
        "colab": {}
      },
      "source": [
        "def write_transcripts(transcript_filename,transcript):\n",
        "    f= open(output_filepath + transcript_filename,\"w+\")\n",
        "    f.write(transcript)\n",
        "    f.close() "
      ],
      "execution_count": 0,
      "outputs": []
    },
    {
      "cell_type": "code",
      "metadata": {
        "id": "NfS4e5esi8jn",
        "colab_type": "code",
        "outputId": "eef88bd0-2727-4d6a-a10d-70a2e510d2ae",
        "colab": {
          "base_uri": "https://localhost:8080/",
          "height": 513
        }
      },
      "source": [
        "if __name__ == \"__main__\":\n",
        "  for index, row in df.head(-1).iterrows():\n",
        "    print(row['mp3_filename'], row['data-asset-source'])\n",
        "    #dl_mp3(row['data-asset-source'],row['mp3_filename'])\n",
        "     \n",
        "    transcript = google_transcribe(row['mp3_filename'])\n",
        "    transcript_filename = row['mp3_filename'].split('.mp3')[0] + '.txt'\n",
        "    write_transcripts(transcript_filename,transcript)"
      ],
      "execution_count": 0,
      "outputs": [
        {
          "output_type": "stream",
          "text": [
            "18755-12.07.2019-ITEMA_22108495-0.mp3 https://media.radiofrance-podcast.net/podcast09/18755-12.07.2019-ITEMA_22108495-0.mp3\n",
            "18755-12.07.2019-ITEMA_22108495-0.mp3\n",
            "converting\n",
            "18755-12.07.2019-ITEMA_22108495-0.wav\n",
            "18755-11.07.2019-ITEMA_22107864-0.mp3 https://media.radiofrance-podcast.net/podcast09/18755-11.07.2019-ITEMA_22107864-0.mp3\n",
            "18755-11.07.2019-ITEMA_22107864-0.mp3\n",
            "converting\n"
          ],
          "name": "stdout"
        },
        {
          "output_type": "error",
          "ename": "FileNotFoundError",
          "evalue": "ignored",
          "traceback": [
            "\u001b[0;31m---------------------------------------------------------------------------\u001b[0m",
            "\u001b[0;31mFileNotFoundError\u001b[0m                         Traceback (most recent call last)",
            "\u001b[0;32m<ipython-input-15-682fe33de98a>\u001b[0m in \u001b[0;36m<module>\u001b[0;34m()\u001b[0m\n\u001b[1;32m      4\u001b[0m     \u001b[0;31m#dl_mp3(row['data-asset-source'],row['mp3_filename'])\u001b[0m\u001b[0;34m\u001b[0m\u001b[0;34m\u001b[0m\u001b[0;34m\u001b[0m\u001b[0m\n\u001b[1;32m      5\u001b[0m \u001b[0;34m\u001b[0m\u001b[0m\n\u001b[0;32m----> 6\u001b[0;31m     \u001b[0mtranscript\u001b[0m \u001b[0;34m=\u001b[0m \u001b[0mgoogle_transcribe\u001b[0m\u001b[0;34m(\u001b[0m\u001b[0mrow\u001b[0m\u001b[0;34m[\u001b[0m\u001b[0;34m'mp3_filename'\u001b[0m\u001b[0;34m]\u001b[0m\u001b[0;34m)\u001b[0m\u001b[0;34m\u001b[0m\u001b[0;34m\u001b[0m\u001b[0m\n\u001b[0m\u001b[1;32m      7\u001b[0m     \u001b[0mtranscript_filename\u001b[0m \u001b[0;34m=\u001b[0m \u001b[0mrow\u001b[0m\u001b[0;34m[\u001b[0m\u001b[0;34m'mp3_filename'\u001b[0m\u001b[0;34m]\u001b[0m\u001b[0;34m.\u001b[0m\u001b[0msplit\u001b[0m\u001b[0;34m(\u001b[0m\u001b[0;34m'.'\u001b[0m\u001b[0;34m)\u001b[0m\u001b[0;34m[\u001b[0m\u001b[0;36m0\u001b[0m\u001b[0;34m]\u001b[0m \u001b[0;34m+\u001b[0m \u001b[0;34m'.txt'\u001b[0m\u001b[0;34m\u001b[0m\u001b[0;34m\u001b[0m\u001b[0m\n\u001b[1;32m      8\u001b[0m     \u001b[0mwrite_transcripts\u001b[0m\u001b[0;34m(\u001b[0m\u001b[0mtranscript_filename\u001b[0m\u001b[0;34m,\u001b[0m\u001b[0mtranscript\u001b[0m\u001b[0;34m)\u001b[0m\u001b[0;34m\u001b[0m\u001b[0;34m\u001b[0m\u001b[0m\n",
            "\u001b[0;32m<ipython-input-13-e798c629c429>\u001b[0m in \u001b[0;36mgoogle_transcribe\u001b[0;34m(audio_file_name)\u001b[0m\n\u001b[1;32m      3\u001b[0m     \u001b[0mfile_name\u001b[0m \u001b[0;34m=\u001b[0m \u001b[0mfilepath\u001b[0m \u001b[0;34m+\u001b[0m \u001b[0maudio_file_name\u001b[0m\u001b[0;34m\u001b[0m\u001b[0;34m\u001b[0m\u001b[0m\n\u001b[1;32m      4\u001b[0m     \u001b[0mprint\u001b[0m\u001b[0;34m(\u001b[0m\u001b[0mfile_name\u001b[0m\u001b[0;34m)\u001b[0m\u001b[0;34m\u001b[0m\u001b[0;34m\u001b[0m\u001b[0m\n\u001b[0;32m----> 5\u001b[0;31m     \u001b[0mwav_file_name\u001b[0m \u001b[0;34m=\u001b[0m \u001b[0mmp3_to_wav\u001b[0m\u001b[0;34m(\u001b[0m\u001b[0mfile_name\u001b[0m\u001b[0;34m)\u001b[0m\u001b[0;34m\u001b[0m\u001b[0;34m\u001b[0m\u001b[0m\n\u001b[0m\u001b[1;32m      6\u001b[0m     \u001b[0mprint\u001b[0m\u001b[0;34m(\u001b[0m\u001b[0mwav_file_name\u001b[0m\u001b[0;34m)\u001b[0m\u001b[0;34m\u001b[0m\u001b[0;34m\u001b[0m\u001b[0m\n\u001b[1;32m      7\u001b[0m \u001b[0;34m\u001b[0m\u001b[0m\n",
            "\u001b[0;32m<ipython-input-8-71f13b4ce880>\u001b[0m in \u001b[0;36mmp3_to_wav\u001b[0;34m(mp3_file_name)\u001b[0m\n\u001b[1;32m      5\u001b[0m     \u001b[0;32mif\u001b[0m \u001b[0;32mnot\u001b[0m \u001b[0mexists\u001b[0m\u001b[0;34m:\u001b[0m\u001b[0;34m\u001b[0m\u001b[0;34m\u001b[0m\u001b[0m\n\u001b[1;32m      6\u001b[0m \u001b[0;34m\u001b[0m\u001b[0m\n\u001b[0;32m----> 7\u001b[0;31m       \u001b[0msound\u001b[0m \u001b[0;34m=\u001b[0m \u001b[0mAudioSegment\u001b[0m\u001b[0;34m.\u001b[0m\u001b[0mfrom_mp3\u001b[0m\u001b[0;34m(\u001b[0m\u001b[0mmp3_file_name\u001b[0m\u001b[0;34m)\u001b[0m\u001b[0;34m\u001b[0m\u001b[0;34m\u001b[0m\u001b[0m\n\u001b[0m\u001b[1;32m      8\u001b[0m       \u001b[0mprint\u001b[0m\u001b[0;34m(\u001b[0m\u001b[0;34m'sound ok'\u001b[0m\u001b[0;34m)\u001b[0m\u001b[0;34m\u001b[0m\u001b[0;34m\u001b[0m\u001b[0m\n\u001b[1;32m      9\u001b[0m \u001b[0;34m\u001b[0m\u001b[0m\n",
            "\u001b[0;32m/usr/local/lib/python3.6/dist-packages/pydub/audio_segment.py\u001b[0m in \u001b[0;36mfrom_mp3\u001b[0;34m(cls, file, parameters)\u001b[0m\n\u001b[1;32m    714\u001b[0m     \u001b[0;34m@\u001b[0m\u001b[0mclassmethod\u001b[0m\u001b[0;34m\u001b[0m\u001b[0;34m\u001b[0m\u001b[0m\n\u001b[1;32m    715\u001b[0m     \u001b[0;32mdef\u001b[0m \u001b[0mfrom_mp3\u001b[0m\u001b[0;34m(\u001b[0m\u001b[0mcls\u001b[0m\u001b[0;34m,\u001b[0m \u001b[0mfile\u001b[0m\u001b[0;34m,\u001b[0m \u001b[0mparameters\u001b[0m\u001b[0;34m=\u001b[0m\u001b[0;32mNone\u001b[0m\u001b[0;34m)\u001b[0m\u001b[0;34m:\u001b[0m\u001b[0;34m\u001b[0m\u001b[0;34m\u001b[0m\u001b[0m\n\u001b[0;32m--> 716\u001b[0;31m         \u001b[0;32mreturn\u001b[0m \u001b[0mcls\u001b[0m\u001b[0;34m.\u001b[0m\u001b[0mfrom_file\u001b[0m\u001b[0;34m(\u001b[0m\u001b[0mfile\u001b[0m\u001b[0;34m,\u001b[0m \u001b[0;34m'mp3'\u001b[0m\u001b[0;34m,\u001b[0m \u001b[0mparameters\u001b[0m\u001b[0;34m=\u001b[0m\u001b[0mparameters\u001b[0m\u001b[0;34m)\u001b[0m\u001b[0;34m\u001b[0m\u001b[0;34m\u001b[0m\u001b[0m\n\u001b[0m\u001b[1;32m    717\u001b[0m \u001b[0;34m\u001b[0m\u001b[0m\n\u001b[1;32m    718\u001b[0m     \u001b[0;34m@\u001b[0m\u001b[0mclassmethod\u001b[0m\u001b[0;34m\u001b[0m\u001b[0;34m\u001b[0m\u001b[0m\n",
            "\u001b[0;32m/usr/local/lib/python3.6/dist-packages/pydub/audio_segment.py\u001b[0m in \u001b[0;36mfrom_file\u001b[0;34m(cls, file, format, codec, parameters, **kwargs)\u001b[0m\n\u001b[1;32m    608\u001b[0m         \u001b[0;32mexcept\u001b[0m \u001b[0mTypeError\u001b[0m\u001b[0;34m:\u001b[0m\u001b[0;34m\u001b[0m\u001b[0;34m\u001b[0m\u001b[0m\n\u001b[1;32m    609\u001b[0m             \u001b[0mfilename\u001b[0m \u001b[0;34m=\u001b[0m \u001b[0;32mNone\u001b[0m\u001b[0;34m\u001b[0m\u001b[0;34m\u001b[0m\u001b[0m\n\u001b[0;32m--> 610\u001b[0;31m         \u001b[0mfile\u001b[0m \u001b[0;34m=\u001b[0m \u001b[0m_fd_or_path_or_tempfile\u001b[0m\u001b[0;34m(\u001b[0m\u001b[0mfile\u001b[0m\u001b[0;34m,\u001b[0m \u001b[0;34m'rb'\u001b[0m\u001b[0;34m,\u001b[0m \u001b[0mtempfile\u001b[0m\u001b[0;34m=\u001b[0m\u001b[0;32mFalse\u001b[0m\u001b[0;34m)\u001b[0m\u001b[0;34m\u001b[0m\u001b[0;34m\u001b[0m\u001b[0m\n\u001b[0m\u001b[1;32m    611\u001b[0m \u001b[0;34m\u001b[0m\u001b[0m\n\u001b[1;32m    612\u001b[0m         \u001b[0;32mif\u001b[0m \u001b[0mformat\u001b[0m\u001b[0;34m:\u001b[0m\u001b[0;34m\u001b[0m\u001b[0;34m\u001b[0m\u001b[0m\n",
            "\u001b[0;32m/usr/local/lib/python3.6/dist-packages/pydub/utils.py\u001b[0m in \u001b[0;36m_fd_or_path_or_tempfile\u001b[0;34m(fd, mode, tempfile)\u001b[0m\n\u001b[1;32m     55\u001b[0m \u001b[0;34m\u001b[0m\u001b[0m\n\u001b[1;32m     56\u001b[0m     \u001b[0;32mif\u001b[0m \u001b[0misinstance\u001b[0m\u001b[0;34m(\u001b[0m\u001b[0mfd\u001b[0m\u001b[0;34m,\u001b[0m \u001b[0mbasestring\u001b[0m\u001b[0;34m)\u001b[0m\u001b[0;34m:\u001b[0m\u001b[0;34m\u001b[0m\u001b[0;34m\u001b[0m\u001b[0m\n\u001b[0;32m---> 57\u001b[0;31m         \u001b[0mfd\u001b[0m \u001b[0;34m=\u001b[0m \u001b[0mopen\u001b[0m\u001b[0;34m(\u001b[0m\u001b[0mfd\u001b[0m\u001b[0;34m,\u001b[0m \u001b[0mmode\u001b[0m\u001b[0;34m=\u001b[0m\u001b[0mmode\u001b[0m\u001b[0;34m)\u001b[0m\u001b[0;34m\u001b[0m\u001b[0;34m\u001b[0m\u001b[0m\n\u001b[0m\u001b[1;32m     58\u001b[0m \u001b[0;34m\u001b[0m\u001b[0m\n\u001b[1;32m     59\u001b[0m     \u001b[0;32mtry\u001b[0m\u001b[0;34m:\u001b[0m\u001b[0;34m\u001b[0m\u001b[0;34m\u001b[0m\u001b[0m\n",
            "\u001b[0;31mFileNotFoundError\u001b[0m: [Errno 2] No such file or directory: '18755-11.07.2019-ITEMA_22107864-0.mp3'"
          ]
        }
      ]
    }
  ]
}