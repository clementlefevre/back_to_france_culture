{
 "cells": [
  {
   "cell_type": "code",
   "execution_count": 1,
   "metadata": {},
   "outputs": [],
   "source": [
    "import requests\n",
    "import pandas as pd\n",
    "from lxml import etree"
   ]
  },
  {
   "cell_type": "code",
   "execution_count": 2,
   "metadata": {},
   "outputs": [
    {
     "name": "stdout",
     "output_type": "stream",
     "text": [
      "https://collections.vam.ac.uk/search/?offset=0&limit=45&narrow=1&extrasearch=&q=creswell&commit=Search&quality=0&orderby=0&order=0&listing_type=list\n"
     ]
    }
   ],
   "source": [
    "BASE_URL = \"https://collections.vam.ac.uk\"\n",
    "search_url = \"/search/?offset=0&limit=45&narrow=1&extrasearch=&q=creswell&commit=Search&quality=0&orderby=0&order=0&listing_type=list\"\n",
    "\n",
    "URL = \"https://collections.vam.ac.uk/search/?offset=0&limit=45&narrow=1&extrasearch=&q=creswell&commit=Search&quality=0\"\n",
    "r = requests.get(BASE_URL+search_url)\n",
    "print(BASE_URL+search_url)\n"
   ]
  },
  {
   "cell_type": "code",
   "execution_count": 12,
   "metadata": {},
   "outputs": [],
   "source": [
    "main_page = etree.HTML(r.content)\n",
    "link = main_page.xpath('//div[@id=\"list-view\"]//li[@class=\"title\"]//@href')\n",
    "\n",
    "df = pd.DataFrame(link )\n",
    "df.columns = [\"url\"]\n",
    "df['url']=BASE_URL+df['url']"
   ]
  },
  {
   "cell_type": "code",
   "execution_count": 28,
   "metadata": {},
   "outputs": [],
   "source": [
    "t = df.head(1).T.values[0][0]"
   ]
  },
  {
   "cell_type": "code",
   "execution_count": 147,
   "metadata": {},
   "outputs": [
    {
     "data": {
      "text/plain": [
       "'https://collections.vam.ac.uk/item/O1298644/decoration-detail-from-the-ceiling-photograph/'"
      ]
     },
     "execution_count": 147,
     "metadata": {},
     "output_type": "execute_result"
    }
   ],
   "source": [
    "t"
   ]
  },
  {
   "cell_type": "code",
   "execution_count": 150,
   "metadata": {},
   "outputs": [],
   "source": [
    "def extract_meta(url):\n",
    "    \n",
    "    r = requests.get(url)\n",
    "    main_page = etree.HTML(r.content)\n",
    "    #link = main_page.xpath('//div[@id=\"basic-details\"]//div[@class=\"content\"]//text()')\n",
    "    \n",
    "    description = main_page.xpath('//div[@id=\"basic-details\"]//h1//text()')\n",
    "    \n",
    "    keys = [\"Object:\",\"Place of origin:\",\"Date:\",\"Artist/Maker:\",\"Materials and Techniques:\",\"Credit Line:\",\"Museum number:\",\"Gallery location:\"]\n",
    "    columns = []\n",
    "    values = []\n",
    "    for k in keys:\n",
    "        \n",
    "      \n",
    "        columns+=main_page.xpath(f'//li//strong[text()=\"{k}\"]//text()')\n",
    "        v=main_page.xpath(f'//li[strong[text()=\"{k}\"]]//div//text()')\n",
    "        \n",
    "        if k ==\"Place of origin:\":\n",
    "\n",
    "            \n",
    "            values.append(''.join([t.replace('\\n',', ') for t in v]))\n",
    "        else:\n",
    "            values+=v\n",
    "\n",
    "        \n",
    "    \n",
    "    \n",
    "    return list(zip(columns,values))\n",
    "           \n",
    " \n",
    "\n",
    "result = extract_meta(t)"
   ]
  },
  {
   "cell_type": "code",
   "execution_count": 152,
   "metadata": {},
   "outputs": [
    {
     "data": {
      "text/html": [
       "<div>\n",
       "<style scoped>\n",
       "    .dataframe tbody tr th:only-of-type {\n",
       "        vertical-align: middle;\n",
       "    }\n",
       "\n",
       "    .dataframe tbody tr th {\n",
       "        vertical-align: top;\n",
       "    }\n",
       "\n",
       "    .dataframe thead th {\n",
       "        text-align: right;\n",
       "    }\n",
       "</style>\n",
       "<table border=\"1\" class=\"dataframe\">\n",
       "  <thead>\n",
       "    <tr style=\"text-align: right;\">\n",
       "      <th></th>\n",
       "      <th>0</th>\n",
       "      <th>1</th>\n",
       "      <th>2</th>\n",
       "      <th>3</th>\n",
       "      <th>4</th>\n",
       "      <th>5</th>\n",
       "      <th>6</th>\n",
       "      <th>7</th>\n",
       "    </tr>\n",
       "  </thead>\n",
       "  <tbody>\n",
       "    <tr>\n",
       "      <th>0</th>\n",
       "      <td>Object:</td>\n",
       "      <td>Place of origin:</td>\n",
       "      <td>Date:</td>\n",
       "      <td>Artist/Maker:</td>\n",
       "      <td>Materials and Techniques:</td>\n",
       "      <td>Credit Line:</td>\n",
       "      <td>Museum number:</td>\n",
       "      <td>Gallery location:</td>\n",
       "    </tr>\n",
       "    <tr>\n",
       "      <th>1</th>\n",
       "      <td>Photograph</td>\n",
       "      <td>Al-Aqsa (photographed), Palestine (photographe...</td>\n",
       "      <td>1930s (photographed)</td>\n",
       "      <td>K.A.C. Creswell, born 1879 - died 1974 (photog...</td>\n",
       "      <td>Gelatin silver print</td>\n",
       "      <td>Purchased from Professor Sir K.A.C. Creswell, ...</td>\n",
       "      <td>790-1939</td>\n",
       "      <td>In Storage</td>\n",
       "    </tr>\n",
       "  </tbody>\n",
       "</table>\n",
       "</div>"
      ],
      "text/plain": [
       "            0                                                  1  \\\n",
       "0     Object:                                   Place of origin:   \n",
       "1  Photograph  Al-Aqsa (photographed), Palestine (photographe...   \n",
       "\n",
       "                      2                                                  3  \\\n",
       "0                 Date:                                      Artist/Maker:   \n",
       "1  1930s (photographed)  K.A.C. Creswell, born 1879 - died 1974 (photog...   \n",
       "\n",
       "                           4  \\\n",
       "0  Materials and Techniques:   \n",
       "1       Gelatin silver print   \n",
       "\n",
       "                                                   5               6  \\\n",
       "0                                       Credit Line:  Museum number:   \n",
       "1  Purchased from Professor Sir K.A.C. Creswell, ...        790-1939   \n",
       "\n",
       "                   7  \n",
       "0  Gallery location:  \n",
       "1         In Storage  "
      ]
     },
     "execution_count": 152,
     "metadata": {},
     "output_type": "execute_result"
    }
   ],
   "source": [
    "df =pd.DataFrame(result)\n",
    "df.T\n"
   ]
  }
 ],
 "metadata": {
  "kernelspec": {
   "display_name": "Python 3",
   "language": "python",
   "name": "python3"
  },
  "language_info": {
   "codemirror_mode": {
    "name": "ipython",
    "version": 3
   },
   "file_extension": ".py",
   "mimetype": "text/x-python",
   "name": "python",
   "nbconvert_exporter": "python",
   "pygments_lexer": "ipython3",
   "version": "3.7.6"
  }
 },
 "nbformat": 4,
 "nbformat_minor": 4
}
