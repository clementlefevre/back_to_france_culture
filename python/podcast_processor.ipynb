{
  "nbformat": 4,
  "nbformat_minor": 0,
  "metadata": {
    "colab": {
      "name": "podcast_processor.ipynb",
      "provenance": [],
      "collapsed_sections": []
    },
    "kernelspec": {
      "name": "python3",
      "display_name": "Python 3"
    }
  },
  "cells": [
    {
      "cell_type": "code",
      "metadata": {
        "id": "zX9kXbh5vy6S",
        "colab_type": "code",
        "colab": {
          "base_uri": "https://localhost:8080/",
          "height": 51
        },
        "outputId": "9ad85210-4bb3-4aa6-cb5e-6b3efa11fe4c"
      },
      "source": [
        "#!cd .. &&rm -rf back_to_france_culture\n",
        "!git clone https://github.com/clementlefevre/back_to_france_culture.git\n",
        "import os\n",
        "os.chdir(\"back_to_france_culture\")\n",
        "!git pull"
      ],
      "execution_count": null,
      "outputs": []
    },
    {
      "cell_type": "code",
      "metadata": {
        "id": "ZF6feTM36cEa",
        "colab_type": "code",
        "colab": {
          "base_uri": "https://localhost:8080/",
          "height": 1000
        },
        "outputId": "050f5f2b-66d5-4497-9ec5-c0c4bd508a70"
      },
      "source": [
        "!pip install -r requirements.txt\n",
        "!pip install nest-asyncio\n",
        "import nest_asyncio\n",
        "nest_asyncio.apply()\n",
        "from service.scrap_podcasts import get_all_podcasts_links\n",
        "from model.podcast import Podcast\n"
      ],
      "execution_count": null,
      "outputs": []
    },
    {
      "cell_type": "code",
      "metadata": {
        "id": "TftzRes4JQO4",
        "colab_type": "code",
        "colab": {
          "base_uri": "https://localhost:8080/",
          "height": 462
        },
        "outputId": "2bcd2454-8ccc-4da6-d53b-1d776839aaf4"
      },
      "source": [
        "\n",
        "for p in  ['voix-nue']:\n",
        "  pod = Podcast(p)\n",
        "  pod.process()"
      ],
      "execution_count": null,
      "outputs": []
    },
    {
      "cell_type": "code",
      "metadata": {
        "id": "ahnafQY2_HFA",
        "colab_type": "code",
        "colab": {}
      },
      "source": [
        ""
      ],
      "execution_count": null,
      "outputs": []
    }
  ]
}