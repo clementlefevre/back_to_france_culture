{
 "cells": [
  {
   "cell_type": "code",
   "execution_count": 3,
   "metadata": {},
   "outputs": [
    {
     "data": {
      "text/plain": [
       "'<?xml version=\"1.0\" encoding=\"UTF-8\"?>\\n<rss version=\"2.0\" xmlns:dc=\"http://purl.org/dc/elements/1.1/\"><channel><title>Sample RSS Feed</title><link>http://www.example.com/rss</link><description>This is an example of how to use rfeed to generate an RSS 2.0 feed</description><language>en-US</language><lastBuildDate>Sun, 07 Jun 2020 17:05:19 GMT</lastBuildDate><generator>rfeed v1.0.0</generator><docs>https://github.com/svpino/rfeed/blob/master/README.md</docs><item><title>First article</title><link>http://www.example.com/articles/1</link><description>This is the description of the first article</description><author>Santiago L. Valdarrama</author><pubDate>Mon, 29 Dec 2014 10:00:00 GMT</pubDate><guid isPermaLink=\"true\">http://www.example.com/articles/1</guid></item><item><title>Second article</title><link>http://www.example.com/articles/2</link><description>This is the description of the second article</description><author>Santiago L. Valdarrama</author><pubDate>Tue, 30 Dec 2014 14:15:00 GMT</pubDate><guid isPermaLink=\"true\">http://www.example.com/articles/2</guid></item></channel></rss>'"
      ]
     },
     "execution_count": 3,
     "metadata": {},
     "output_type": "execute_result"
    }
   ],
   "source": [
    "import datetime \n",
    "from rfeed import *\n",
    "\n",
    "item1 = Item(\n",
    "    title = \"First article\",\n",
    "    link = \"http://www.example.com/articles/1\", \n",
    "    description = \"This is the description of the first article\",\n",
    "    author = \"Santiago L. Valdarrama\",\n",
    "    guid = Guid(\"http://www.example.com/articles/1\"),\n",
    "    pubDate = datetime.datetime(2014, 12, 29, 10, 00))\n",
    "\n",
    "item2 = Item(\n",
    "    title = \"Second article\",\n",
    "    link = \"http://www.example.com/articles/2\", \n",
    "    description = \"This is the description of the second article\",\n",
    "    author = \"Santiago L. Valdarrama\",\n",
    "    guid = Guid(\"http://www.example.com/articles/2\"),\n",
    "    pubDate = datetime.datetime(2014, 12, 30, 14, 15))\n",
    "\n",
    "feed = Feed(\n",
    "    title = \"Sample RSS Feed\",\n",
    "    link = \"http://www.example.com/rss\",\n",
    "    description = \"This is an example of how to use rfeed to generate an RSS 2.0 feed\",\n",
    "    language = \"en-US\",\n",
    "    lastBuildDate = datetime.datetime.now(),\n",
    "    items = [item1, item2])\n",
    "\n",
    "feed.rss()"
   ]
  }
 ],
 "metadata": {
  "kernelspec": {
   "display_name": "france_culture",
   "language": "python",
   "name": "france_culture"
  },
  "language_info": {
   "codemirror_mode": {
    "name": "ipython",
    "version": 3
   },
   "file_extension": ".py",
   "mimetype": "text/x-python",
   "name": "python",
   "nbconvert_exporter": "python",
   "pygments_lexer": "ipython3",
   "version": "3.7.7"
  }
 },
 "nbformat": 4,
 "nbformat_minor": 4
}
