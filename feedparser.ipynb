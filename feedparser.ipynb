{
 "cells": [
  {
   "cell_type": "code",
   "execution_count": 1,
   "metadata": {},
   "outputs": [],
   "source": [
    "import feedparser\n",
    "import pandas as pd\n",
    "\n",
    "rawrss = [\n",
    "    \"http://radiofrance-podcast.net/podcast09/rss_10467.xml\",\n",
    "    ]\n",
    "\n",
    "feeds = [] # list of feed objects\n",
    "for url in rawrss:\n",
    "    feeds.append(feedparser.parse(url))\n",
    "\n",
    "posts = [] # list of posts [(title1, link1, summary1), (title2, link2, summary2) ... ]\n",
    "for feed in feeds:\n",
    "    for post in feed.entries:\n",
    "        posts.append((post.title, post.link, post.summary))\n",
    "\n",
    "df = pd.DataFrame(posts, columns=['title', 'link', 'summary']) # pass data to init"
   ]
  },
  {
   "cell_type": "code",
   "execution_count": 29,
   "metadata": {},
   "outputs": [
    {
     "data": {
      "text/plain": [
       "list"
      ]
     },
     "execution_count": 29,
     "metadata": {},
     "output_type": "execute_result"
    }
   ],
   "source": [
    "type(feeds)"
   ]
  },
  {
   "cell_type": "code",
   "execution_count": 28,
   "metadata": {},
   "outputs": [
    {
     "ename": "ValueError",
     "evalue": "Invalid file path or buffer object type: <class 'list'>",
     "output_type": "error",
     "traceback": [
      "\u001b[0;31m---------------------------------------------------------------------------\u001b[0m",
      "\u001b[0;31mValueError\u001b[0m                                Traceback (most recent call last)",
      "\u001b[0;32m<ipython-input-28-0ce7a4473364>\u001b[0m in \u001b[0;36m<module>\u001b[0;34m\u001b[0m\n\u001b[0;32m----> 1\u001b[0;31m \u001b[0mpd\u001b[0m\u001b[0;34m.\u001b[0m\u001b[0mread_json\u001b[0m\u001b[0;34m(\u001b[0m\u001b[0mfeeds\u001b[0m\u001b[0;34m)\u001b[0m\u001b[0;34m\u001b[0m\u001b[0;34m\u001b[0m\u001b[0m\n\u001b[0m",
      "\u001b[0;32m~/anaconda3/envs/france_culture/lib/python3.7/site-packages/pandas/util/_decorators.py\u001b[0m in \u001b[0;36mwrapper\u001b[0;34m(*args, **kwargs)\u001b[0m\n\u001b[1;32m    212\u001b[0m                 \u001b[0;32melse\u001b[0m\u001b[0;34m:\u001b[0m\u001b[0;34m\u001b[0m\u001b[0;34m\u001b[0m\u001b[0m\n\u001b[1;32m    213\u001b[0m                     \u001b[0mkwargs\u001b[0m\u001b[0;34m[\u001b[0m\u001b[0mnew_arg_name\u001b[0m\u001b[0;34m]\u001b[0m \u001b[0;34m=\u001b[0m \u001b[0mnew_arg_value\u001b[0m\u001b[0;34m\u001b[0m\u001b[0;34m\u001b[0m\u001b[0m\n\u001b[0;32m--> 214\u001b[0;31m             \u001b[0;32mreturn\u001b[0m \u001b[0mfunc\u001b[0m\u001b[0;34m(\u001b[0m\u001b[0;34m*\u001b[0m\u001b[0margs\u001b[0m\u001b[0;34m,\u001b[0m \u001b[0;34m**\u001b[0m\u001b[0mkwargs\u001b[0m\u001b[0;34m)\u001b[0m\u001b[0;34m\u001b[0m\u001b[0;34m\u001b[0m\u001b[0m\n\u001b[0m\u001b[1;32m    215\u001b[0m \u001b[0;34m\u001b[0m\u001b[0m\n\u001b[1;32m    216\u001b[0m         \u001b[0;32mreturn\u001b[0m \u001b[0mcast\u001b[0m\u001b[0;34m(\u001b[0m\u001b[0mF\u001b[0m\u001b[0;34m,\u001b[0m \u001b[0mwrapper\u001b[0m\u001b[0;34m)\u001b[0m\u001b[0;34m\u001b[0m\u001b[0;34m\u001b[0m\u001b[0m\n",
      "\u001b[0;32m~/anaconda3/envs/france_culture/lib/python3.7/site-packages/pandas/io/json/_json.py\u001b[0m in \u001b[0;36mread_json\u001b[0;34m(path_or_buf, orient, typ, dtype, convert_axes, convert_dates, keep_default_dates, numpy, precise_float, date_unit, encoding, lines, chunksize, compression)\u001b[0m\n\u001b[1;32m    583\u001b[0m     \u001b[0mcompression\u001b[0m \u001b[0;34m=\u001b[0m \u001b[0minfer_compression\u001b[0m\u001b[0;34m(\u001b[0m\u001b[0mpath_or_buf\u001b[0m\u001b[0;34m,\u001b[0m \u001b[0mcompression\u001b[0m\u001b[0;34m)\u001b[0m\u001b[0;34m\u001b[0m\u001b[0;34m\u001b[0m\u001b[0m\n\u001b[1;32m    584\u001b[0m     filepath_or_buffer, _, compression, should_close = get_filepath_or_buffer(\n\u001b[0;32m--> 585\u001b[0;31m         \u001b[0mpath_or_buf\u001b[0m\u001b[0;34m,\u001b[0m \u001b[0mencoding\u001b[0m\u001b[0;34m=\u001b[0m\u001b[0mencoding\u001b[0m\u001b[0;34m,\u001b[0m \u001b[0mcompression\u001b[0m\u001b[0;34m=\u001b[0m\u001b[0mcompression\u001b[0m\u001b[0;34m\u001b[0m\u001b[0;34m\u001b[0m\u001b[0m\n\u001b[0m\u001b[1;32m    586\u001b[0m     )\n\u001b[1;32m    587\u001b[0m \u001b[0;34m\u001b[0m\u001b[0m\n",
      "\u001b[0;32m~/anaconda3/envs/france_culture/lib/python3.7/site-packages/pandas/io/common.py\u001b[0m in \u001b[0;36mget_filepath_or_buffer\u001b[0;34m(filepath_or_buffer, encoding, compression, mode)\u001b[0m\n\u001b[1;32m    198\u001b[0m     \u001b[0;32mif\u001b[0m \u001b[0;32mnot\u001b[0m \u001b[0mis_file_like\u001b[0m\u001b[0;34m(\u001b[0m\u001b[0mfilepath_or_buffer\u001b[0m\u001b[0;34m)\u001b[0m\u001b[0;34m:\u001b[0m\u001b[0;34m\u001b[0m\u001b[0;34m\u001b[0m\u001b[0m\n\u001b[1;32m    199\u001b[0m         \u001b[0mmsg\u001b[0m \u001b[0;34m=\u001b[0m \u001b[0;34mf\"Invalid file path or buffer object type: {type(filepath_or_buffer)}\"\u001b[0m\u001b[0;34m\u001b[0m\u001b[0;34m\u001b[0m\u001b[0m\n\u001b[0;32m--> 200\u001b[0;31m         \u001b[0;32mraise\u001b[0m \u001b[0mValueError\u001b[0m\u001b[0;34m(\u001b[0m\u001b[0mmsg\u001b[0m\u001b[0;34m)\u001b[0m\u001b[0;34m\u001b[0m\u001b[0;34m\u001b[0m\u001b[0m\n\u001b[0m\u001b[1;32m    201\u001b[0m \u001b[0;34m\u001b[0m\u001b[0m\n\u001b[1;32m    202\u001b[0m     \u001b[0;32mreturn\u001b[0m \u001b[0mfilepath_or_buffer\u001b[0m\u001b[0;34m,\u001b[0m \u001b[0;32mNone\u001b[0m\u001b[0;34m,\u001b[0m \u001b[0mcompression\u001b[0m\u001b[0;34m,\u001b[0m \u001b[0;32mFalse\u001b[0m\u001b[0;34m\u001b[0m\u001b[0;34m\u001b[0m\u001b[0m\n",
      "\u001b[0;31mValueError\u001b[0m: Invalid file path or buffer object type: <class 'list'>"
     ]
    }
   ],
   "source": [
    "pd.read_json(feeds)"
   ]
  },
  {
   "cell_type": "code",
   "execution_count": 17,
   "metadata": {},
   "outputs": [
    {
     "data": {
      "text/plain": [
       "[{'title': 'Les Chemins de la philosophie',\n",
       "  'title_detail': {'type': 'text/plain',\n",
       "   'language': None,\n",
       "   'base': 'http://radiofrance-podcast.net/podcast09/rss_10467.xml',\n",
       "   'value': 'Les Chemins de la philosophie'},\n",
       "  'links': [{'rel': 'alternate',\n",
       "    'type': 'text/html',\n",
       "    'href': 'https://www.franceculture.fr/emissions/les-chemins-de-la-philosophie'}],\n",
       "  'link': 'https://www.franceculture.fr/emissions/les-chemins-de-la-philosophie',\n",
       "  'subtitle': 'Les Chemins de la philosophie',\n",
       "  'subtitle_detail': {'type': 'text/plain',\n",
       "   'language': None,\n",
       "   'base': 'http://radiofrance-podcast.net/podcast09/rss_10467.xml',\n",
       "   'value': 'Les Chemins de la philosophie'},\n",
       "  'language': 'fr',\n",
       "  'rights': 'Radio France',\n",
       "  'rights_detail': {'type': 'text/plain',\n",
       "   'language': None,\n",
       "   'base': 'http://radiofrance-podcast.net/podcast09/rss_10467.xml',\n",
       "   'value': 'Radio France'},\n",
       "  'updated': 'Sun, 07 Jun 2020 07:43:16 +0200',\n",
       "  'updated_parsed': time.struct_time(tm_year=2020, tm_mon=6, tm_mday=7, tm_hour=5, tm_min=43, tm_sec=16, tm_wday=6, tm_yday=159, tm_isdst=0),\n",
       "  'generator_detail': {'name': 'Radio France'},\n",
       "  'generator': 'Radio France',\n",
       "  'image': {'href': 'https://cdn.radiofrance.fr/s3/cruiser-production/2019/07/85b0a2e3-e891-4086-9bd7-982eb5b4e6ab/1400x1400_rf_omm_0000017869_ite.jpg'},\n",
       "  'authors': [{'name': 'Radio France', 'email': 'podcast@radiofrance.com'}],\n",
       "  'author': 'France Culture (podcast@radiofrance.com)',\n",
       "  'author_detail': {'name': 'Radio France',\n",
       "   'email': 'podcast@radiofrance.com'},\n",
       "  'tags': [{'term': 'Society & Culture',\n",
       "    'scheme': 'http://www.itunes.com/',\n",
       "    'label': None},\n",
       "   {'term': 'Philosophy', 'scheme': 'http://www.itunes.com/', 'label': None}],\n",
       "  'itunes_explicit': None,\n",
       "  'publisher_detail': {'email': 'podcast@radiofrance.com',\n",
       "   'name': 'Radio France'},\n",
       "  'summary': 'Une rencontre quotidienne entre philosophie et monde contemporain.\\nDu lundi au vendredi de 10h00 à 10h55',\n",
       "  'summary_detail': {'type': 'text/plain',\n",
       "   'language': None,\n",
       "   'base': 'http://radiofrance-podcast.net/podcast09/rss_10467.xml',\n",
       "   'value': 'Une rencontre quotidienne entre philosophie et monde contemporain.\\nDu lundi au vendredi de 10h00 à 10h55'},\n",
       "  'podcastrf_originstation': '5',\n",
       "  'googleplay_block': 'yes'}]"
      ]
     },
     "execution_count": 17,
     "metadata": {},
     "output_type": "execute_result"
    }
   ],
   "source": [
    "[f['feed'] for f in feeds]"
   ]
  }
 ],
 "metadata": {
  "kernelspec": {
   "display_name": "france_culture",
   "language": "python",
   "name": "france_culture"
  },
  "language_info": {
   "codemirror_mode": {
    "name": "ipython",
    "version": 3
   },
   "file_extension": ".py",
   "mimetype": "text/x-python",
   "name": "python",
   "nbconvert_exporter": "python",
   "pygments_lexer": "ipython3",
   "version": "3.7.7"
  }
 },
 "nbformat": 4,
 "nbformat_minor": 2
}
